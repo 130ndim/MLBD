{
 "cells": [
  {
   "cell_type": "markdown",
   "metadata": {
    "toc": true
   },
   "source": [
    "<h1>Table of Contents<span class=\"tocSkip\"></span></h1>\n",
    "<div class=\"toc\"><ul class=\"toc-item\"></ul></div>"
   ]
  },
  {
   "cell_type": "code",
   "execution_count": 1,
   "metadata": {},
   "outputs": [],
   "source": [
    "%matplotlib inline\n",
    "%config InlineBackend.figure_format ='retina'\n",
    "\n",
    "import os\n",
    "import sys\n",
    "import glob\n",
    "import pickle\n",
    "import seaborn as sns\n",
    "import matplotlib.pyplot as plt\n",
    "import numpy as np\n",
    "\n",
    "import pyspark\n",
    "from pyspark.conf import SparkConf\n",
    "from pyspark.sql import SQLContext\n",
    "from pyspark.sql import SparkSession\n",
    "\n",
    "\n",
    "spark = SparkSession \\\n",
    "    .builder \\\n",
    "    .master('local[*]') \\\n",
    "    .appName(\"spark_sql_examples\") \\\n",
    "    .config(\"spark.executor.memory\", \"4g\") \\\n",
    "    .getOrCreate()\n",
    "\n",
    "sc = spark.sparkContext\n",
    "sqlContext = SQLContext(sc)"
   ]
  },
  {
   "cell_type": "code",
   "execution_count": 2,
   "metadata": {},
   "outputs": [],
   "source": [
    "DATA_PATH = '/workspace/data/ml-25m'\n",
    "\n",
    "RATINGS_PATH = os.path.join(DATA_PATH, 'ratings.csv')\n",
    "MOVIES_PATH = os.path.join(DATA_PATH, 'movies.csv')\n",
    "TAGS_PATH = os.path.join(DATA_PATH, 'tags.csv')"
   ]
  },
  {
   "cell_type": "code",
   "execution_count": 29,
   "metadata": {},
   "outputs": [],
   "source": [
    "import pyspark.sql.functions as F\n",
    "from pyspark.sql.types import *\n",
    "\n",
    "\n",
    "ratings_df = sqlContext.read.format(\"com.databricks.spark.csv\") \\\n",
    "    .option(\"delimiter\", \",\") \\\n",
    "    .option(\"header\", \"true\") \\\n",
    "    .option(\"inferSchema\", \"true\") \\\n",
    "    .load('file:///' + RATINGS_PATH)"
   ]
  },
  {
   "cell_type": "code",
   "execution_count": 4,
   "metadata": {},
   "outputs": [
    {
     "name": "stdout",
     "output_type": "stream",
     "text": [
      "root\n",
      " |-- userId: integer (nullable = true)\n",
      " |-- movieId: integer (nullable = true)\n",
      " |-- rating: double (nullable = true)\n",
      " |-- timestamp: integer (nullable = true)\n",
      "\n"
     ]
    }
   ],
   "source": [
    "ratings_df.printSchema()"
   ]
  },
  {
   "cell_type": "code",
   "execution_count": 30,
   "metadata": {},
   "outputs": [],
   "source": [
    "selected_movies = ratings_df.groupby('movieId').count().filter('count >= 10').select('movieId')\n",
    "\n",
    "ratings_df = ratings_df\\\n",
    "    .join(selected_movies, 'movieId')"
   ]
  },
  {
   "cell_type": "code",
   "execution_count": 31,
   "metadata": {},
   "outputs": [
    {
     "data": {
      "text/plain": [
       "24890583"
      ]
     },
     "execution_count": 31,
     "metadata": {},
     "output_type": "execute_result"
    }
   ],
   "source": [
    "ratings_df.count()"
   ]
  },
  {
   "cell_type": "code",
   "execution_count": 32,
   "metadata": {},
   "outputs": [],
   "source": [
    "(ratings_df, test_ratings_df) = ratings_df.randomSplit([0.8, 0.2])\n",
    "\n",
    "ratings_df = ratings_df.cache()\n",
    "test_ratings_df = test_ratings_df.cache()"
   ]
  },
  {
   "cell_type": "code",
   "execution_count": 33,
   "metadata": {},
   "outputs": [
    {
     "data": {
      "text/plain": [
       "162541"
      ]
     },
     "execution_count": 33,
     "metadata": {},
     "output_type": "execute_result"
    }
   ],
   "source": [
    "ratings_df.select('userId').distinct().count()"
   ]
  },
  {
   "cell_type": "code",
   "execution_count": 34,
   "metadata": {},
   "outputs": [
    {
     "data": {
      "text/plain": [
       "24330"
      ]
     },
     "execution_count": 34,
     "metadata": {},
     "output_type": "execute_result"
    }
   ],
   "source": [
    "ratings_df.select('movieId').distinct().count()"
   ]
  },
  {
   "cell_type": "code",
   "execution_count": 35,
   "metadata": {},
   "outputs": [],
   "source": [
    "from pyspark.ml.recommendation import ALS, ALSModel\n",
    "\n",
    "\n",
    "rank = 30\n",
    "maxIter = 5\n",
    "regParam = 0.1\n",
    "alpha = 0.5\n",
    "\n",
    "\n",
    "als = ALS(rank=rank, maxIter=maxIter, regParam=regParam, userCol='userId', itemCol='movieId',\n",
    "          ratingCol='rating', coldStartStrategy='drop', numUserBlocks=10, numItemBlocks=10,\n",
    "          nonnegative=True, checkpointInterval=3, implicitPrefs=True, alpha=alpha)\n",
    "\n",
    "als_model = als.fit(ratings_df)"
   ]
  },
  {
   "cell_type": "code",
   "execution_count": 36,
   "metadata": {},
   "outputs": [
    {
     "name": "stdout",
     "output_type": "stream",
     "text": [
      "Root-mean-square error = 3.3191516388782456\n"
     ]
    }
   ],
   "source": [
    "from pyspark.ml.evaluation import RegressionEvaluator\n",
    "\n",
    "\n",
    "predictions = als_model.transform(test_ratings_df)\n",
    "\n",
    "evaluator = RegressionEvaluator(metricName=\"rmse\", labelCol=\"rating\",\n",
    "                                predictionCol=\"prediction\")\n",
    "\n",
    "rmse = evaluator.evaluate(predictions)\n",
    "print(\"Root-mean-square error = \" + str(rmse))"
   ]
  },
  {
   "cell_type": "code",
   "execution_count": 37,
   "metadata": {},
   "outputs": [],
   "source": [
    "items = als_model.itemFactors.select(F.col('id').alias('movieId'), 'features')\n",
    "users = als_model.userFactors.select(F.col('id').alias('userId'), 'features')"
   ]
  },
  {
   "cell_type": "code",
   "execution_count": 38,
   "metadata": {},
   "outputs": [
    {
     "data": {
      "text/plain": [
       "(162541, 24330)"
      ]
     },
     "execution_count": 38,
     "metadata": {},
     "output_type": "execute_result"
    }
   ],
   "source": [
    " users.count(), items.count()"
   ]
  },
  {
   "cell_type": "code",
   "execution_count": 39,
   "metadata": {},
   "outputs": [],
   "source": [
    "from functools import partial\n",
    "\n",
    "\n",
    "def most_similar(vec, vecs_df, names_df, name_col, vec_column='features', id_column='movieId', top_n=20):\n",
    "    def similarity(a, b):\n",
    "        return float(np.dot(a, b))\n",
    "    \n",
    "    similarity_udf = F.udf(partial(similarity, vec), FloatType())\n",
    "    \n",
    "    top = vecs_df\\\n",
    "        .withColumn('sim', similarity_udf(F.col(vec_column)))\\\n",
    "        .join(names_df, id_column) \\\n",
    "        .sort(F.col('sim').desc())\\\n",
    "        .take(top_n)\n",
    "    \n",
    "    top = [(row[name_col], row['sim'], row[id_column]) for row in top]\n",
    "        \n",
    "    return top"
   ]
  },
  {
   "cell_type": "code",
   "execution_count": 40,
   "metadata": {},
   "outputs": [
    {
     "name": "stdout",
     "output_type": "stream",
     "text": [
      "root\n",
      " |-- movieId: integer (nullable = true)\n",
      " |-- title: string (nullable = true)\n",
      " |-- genres: string (nullable = true)\n",
      "\n"
     ]
    }
   ],
   "source": [
    "movies_df = sqlContext.read.format(\"com.databricks.spark.csv\") \\\n",
    "    .option(\"delimiter\", \",\") \\\n",
    "    .option(\"header\", \"true\") \\\n",
    "    .option(\"inferSchema\", \"true\") \\\n",
    "    .load('file:///' + MOVIES_PATH)\n",
    "\n",
    "movies_df.printSchema()"
   ]
  },
  {
   "cell_type": "code",
   "execution_count": 42,
   "metadata": {},
   "outputs": [
    {
     "data": {
      "text/plain": [
       "[('The Hunger Games (2012)', 1.015023112297058, 91500),\n",
       " ('Guardians of the Galaxy (2014)', 1.0141681432724, 112852),\n",
       " ('Captain America: The Winter Soldier (2014)', 1.0119675397872925, 110102),\n",
       " ('The Hunger Games: Catching Fire (2013)', 1.0085968971252441, 106487),\n",
       " ('Captain America: The First Avenger (2011)', 1.0078189373016357, 88140),\n",
       " ('Thor (2011)', 1.0016133785247803, 86332),\n",
       " ('Avengers, The (2012)', 1.0002464056015015, 89745),\n",
       " ('Iron Man 3 (2013)', 0.9988570213317871, 102125),\n",
       " ('Avengers: Age of Ultron (2015)', 0.9853427410125732, 122892),\n",
       " ('Iron Man 2 (2010)', 0.9761397838592529, 77561),\n",
       " ('X-Men: Days of Future Past (2014)', 0.9717006087303162, 111362),\n",
       " ('Deadpool (2016)', 0.9527263641357422, 122904),\n",
       " ('Despicable Me (2010)', 0.9508697390556335, 79091),\n",
       " ('Hobbit: An Unexpected Journey, The (2012)', 0.9472380876541138, 98809),\n",
       " ('X-Men: First Class (2011)', 0.942909300327301, 87232),\n",
       " ('The Hunger Games: Mockingjay - Part 1 (2014)', 0.9418891668319702, 116823),\n",
       " ('Frozen (2013)', 0.940463662147522, 106696),\n",
       " ('Hobbit: The Desolation of Smaug, The (2013)', 0.935301661491394, 106489),\n",
       " ('Kingsman: The Secret Service (2015)', 0.9340954422950745, 119145),\n",
       " ('Ant-Man (2015)', 0.9282430410385132, 122900)]"
      ]
     },
     "execution_count": 42,
     "metadata": {},
     "output_type": "execute_result"
    }
   ],
   "source": [
    "most_similar(items.filter(F.col('movieId') == 102125).first()['features'], \n",
    "             items, \n",
    "             movies_df,\n",
    "             'title',\n",
    "             top_n=20)"
   ]
  },
  {
   "cell_type": "code",
   "execution_count": 48,
   "metadata": {},
   "outputs": [
    {
     "data": {
      "text/plain": [
       "[('Rear Window (1954)', 1.3324941396713257, 904),\n",
       " ('Casablanca (1942)', 1.3265633583068848, 912),\n",
       " ('Citizen Kane (1941)', 1.3114204406738281, 923),\n",
       " ('Chinatown (1974)', 1.2845097780227661, 1252),\n",
       " ('North by Northwest (1959)', 1.2814443111419678, 908),\n",
       " ('Dr. Strangelove or: How I Learned to Stop Worrying and Love the Bomb (1964)',\n",
       "  1.2698745727539062,\n",
       "  750),\n",
       " ('Vertigo (1958)', 1.261254906654358, 903),\n",
       " ('Graduate, The (1967)', 1.2288837432861328, 1247),\n",
       " ('Annie Hall (1977)', 1.2281460762023926, 1230),\n",
       " ('Psycho (1960)', 1.2174863815307617, 1219),\n",
       " (\"One Flew Over the Cuckoo's Nest (1975)\", 1.2071822881698608, 1193),\n",
       " ('Taxi Driver (1976)', 1.1511625051498413, 111),\n",
       " ('Maltese Falcon, The (1941)', 1.14179527759552, 913),\n",
       " ('Amadeus (1984)', 1.1331160068511963, 1225),\n",
       " ('Apocalypse Now (1979)', 1.1285710334777832, 1208),\n",
       " ('2001: A Space Odyssey (1968)', 1.1115596294403076, 924),\n",
       " ('Godfather, The (1972)', 1.1109793186187744, 858),\n",
       " ('To Kill a Mockingbird (1962)', 1.1023145914077759, 1207),\n",
       " ('Fargo (1996)', 1.0989031791687012, 608),\n",
       " ('Lawrence of Arabia (1962)', 1.0963796377182007, 1204)]"
      ]
     },
     "execution_count": 48,
     "metadata": {},
     "output_type": "execute_result"
    }
   ],
   "source": [
    "most_similar(items.filter(F.col('movieId') == 923).first()['features'], \n",
    "             items, \n",
    "             movies_df,\n",
    "             'title',\n",
    "             top_n=20)"
   ]
  },
  {
   "cell_type": "code",
   "execution_count": 7,
   "metadata": {},
   "outputs": [
    {
     "data": {
      "image/png": "[encoded data removed]",
      "text/plain": [
       "<Figure size 432x288 with 1 Axes>"
      ]
     },
     "metadata": {
      "image/png": {
       "height": 263,
       "width": 380
      },
      "needs_background": "light"
     },
     "output_type": "display_data"
    }
   ],
   "source": [
    "%matplotlib inline\n",
    "%config InlineBackend.figure_format ='retina'\n",
    "\n",
    "import numpy as np\n",
    "import matplotlib.pyplot as plt\n",
    "from matplotlib.collections import LineCollection\n",
    "\n",
    "from sklearn.linear_model import LinearRegression\n",
    "from sklearn.isotonic import IsotonicRegression\n",
    "from sklearn.utils import check_random_state\n",
    "\n",
    "n = 15\n",
    "x = np.arange(n)\n",
    "rs = check_random_state(0)\n",
    "# y = rs.randint(-50, 50, size=(n,)) + 50. * np.log1p(np.arange(n))\n",
    "y = [0.76250,\n",
    "0.75863,\n",
    "0.73554,\n",
    "0.73433,\n",
    "0.73394,\n",
    "0.73301,\n",
    "0.73286,\n",
    "0.73256,\n",
    "0.73250,\n",
    "0.73032,\n",
    "0.73028,\n",
    "0.69583,\n",
    "0.69546,\n",
    "0.69543,\n",
    "0.69506]\n",
    "y = y[::-1]\n",
    "\n",
    "# #############################################################################\n",
    "# Fit IsotonicRegression and LinearRegression models\n",
    "\n",
    "ir = IsotonicRegression()\n",
    "\n",
    "y_ = ir.fit_transform(x, y)\n",
    "\n",
    "lr = LinearRegression()\n",
    "lr.fit(x[:, np.newaxis], y)  # x needs to be 2d for LinearRegression\n",
    "\n",
    "# #############################################################################\n",
    "# Plot result\n",
    "\n",
    "segments = [[[i, y[i]], [i, y_[i]]] for i in range(n)]\n",
    "lc = LineCollection(segments, zorder=0)\n",
    "lc.set_array(np.ones(len(y)))\n",
    "lc.set_linewidths(np.full(n, 0.5))\n",
    "\n",
    "fig = plt.figure()\n",
    "plt.plot(x, y, 'r.', markersize=12)\n",
    "plt.plot(x, y_, 'b.-', markersize=12)\n",
    "plt.plot(x, lr.predict(x[:, np.newaxis]), 'b-')\n",
    "plt.gca().add_collection(lc)\n",
    "plt.legend(('Data', 'Isotonic Fit', 'Linear Fit'), loc='lower right')\n",
    "plt.title('Isotonic regression')\n",
    "plt.show()"
   ]
  }
 ],
 "metadata": {
  "kernelspec": {
   "display_name": "Python 3",
   "language": "python",
   "name": "python3"
  },
  "language_info": {
   "codemirror_mode": {
    "name": "ipython",
    "version": 3
   },
   "file_extension": ".py",
   "mimetype": "text/x-python",
   "name": "python",
   "nbconvert_exporter": "python",
   "pygments_lexer": "ipython3",
   "version": "3.5.6"
  },
  "toc": {
   "base_numbering": 1,
   "nav_menu": {},
   "number_sections": true,
   "sideBar": true,
   "skip_h1_title": false,
   "title_cell": "Table of Contents",
   "title_sidebar": "Contents",
   "toc_cell": true,
   "toc_position": {},
   "toc_section_display": true,
   "toc_window_display": true
  }
 },
 "nbformat": 4,
 "nbformat_minor": 2
}
