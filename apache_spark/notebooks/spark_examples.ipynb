{
 "cells": [
  {
   "cell_type": "code",
   "execution_count": 1,
   "metadata": {
    "scrolled": false
   },
   "outputs": [],
   "source": [
    "import os\n",
    "import sys\n",
    "import glob\n",
    "\n",
    "\n",
    "os.environ[\"PYSPARK_PYTHON\"] = \"usr/bin/python3.5\""
   ]
  },
  {
   "cell_type": "code",
   "execution_count": 2,
   "metadata": {},
   "outputs": [
    {
     "name": "stdout",
     "output_type": "stream",
     "text": [
      "Welcome to\r\n",
      "      ____              __\r\n",
      "     / __/__  ___ _____/ /__\r\n",
      "    _\\ \\/ _ \\/ _ `/ __/  '_/\r\n",
      "   /___/ .__/\\_,_/_/ /_/\\_\\   version 1.6.0\r\n",
      "      /_/\r\n",
      "                        \r\n",
      "Type --help for more information.\r\n"
     ]
    }
   ],
   "source": [
    "!spark-submit --version"
   ]
  },
  {
   "cell_type": "code",
   "execution_count": 3,
   "metadata": {},
   "outputs": [],
   "source": [
    "import pyspark\n",
    "from pyspark.conf import SparkConf\n",
    "from pyspark.sql import SQLContext\n",
    "\n",
    "\n",
    "conf = SparkConf()\n",
    "conf.setMaster(\"yarn-client\")\n",
    "conf.set(\"spark.executor.memory\", \"4g\")\n",
    "conf.set(\"spark.core.connection.ack.wait.timeout\", \"1200\")\n",
    "\n",
    "# conf.set(\"spark.dynamicAllocation.enabled\", \"true\")\n",
    "# conf.set(\"spark.shuffle.service.enabled\", \"true\")\n",
    "# conf.set(\"spark.dynamicAllocation.initialExecutors\", 2)\n",
    "# conf.set(\"spark.dynamicAllocation.maxExecutors\", 2)\n",
    "\n",
    "sc = pyspark.SparkContext(conf = conf)\n",
    "sqlContext = SQLContext(sc)"
   ]
  },
  {
   "cell_type": "code",
   "execution_count": 4,
   "metadata": {},
   "outputs": [
    {
     "name": "stdout",
     "output_type": "stream",
     "text": [
      "Found 2 items\r\n",
      "drwxr-xr-x   - root supergroup          0 2020-01-12 15:19 .sparkStaging\r\n",
      "-rw-r--r--   1 root supergroup  404281742 2020-01-12 15:11 tmdb.json\r\n"
     ]
    }
   ],
   "source": [
    "!hdfs dfs -ls ."
   ]
  },
  {
   "cell_type": "code",
   "execution_count": 5,
   "metadata": {},
   "outputs": [],
   "source": [
    "tmdb_df = sqlContext.read.load(\"./tmdb.json\", format=\"json\")"
   ]
  },
  {
   "cell_type": "code",
   "execution_count": 7,
   "metadata": {},
   "outputs": [
    {
     "name": "stdout",
     "output_type": "stream",
     "text": [
      "root\n",
      " |-- adult: boolean (nullable = true)\n",
      " |-- backdrop_path: string (nullable = true)\n",
      " |-- belongs_to_collection: struct (nullable = true)\n",
      " |    |-- backdrop_path: string (nullable = true)\n",
      " |    |-- id: long (nullable = true)\n",
      " |    |-- name: string (nullable = true)\n",
      " |    |-- poster_path: string (nullable = true)\n",
      " |-- budget: long (nullable = true)\n",
      " |-- casts: struct (nullable = true)\n",
      " |    |-- cast: array (nullable = true)\n",
      " |    |    |-- element: struct (containsNull = true)\n",
      " |    |    |    |-- cast_id: long (nullable = true)\n",
      " |    |    |    |-- character: string (nullable = true)\n",
      " |    |    |    |-- credit_id: string (nullable = true)\n",
      " |    |    |    |-- gender: long (nullable = true)\n",
      " |    |    |    |-- id: long (nullable = true)\n",
      " |    |    |    |-- name: string (nullable = true)\n",
      " |    |    |    |-- order: long (nullable = true)\n",
      " |    |    |    |-- profile_path: string (nullable = true)\n",
      " |    |-- crew: array (nullable = true)\n",
      " |    |    |-- element: struct (containsNull = true)\n",
      " |    |    |    |-- credit_id: string (nullable = true)\n",
      " |    |    |    |-- department: string (nullable = true)\n",
      " |    |    |    |-- gender: long (nullable = true)\n",
      " |    |    |    |-- id: long (nullable = true)\n",
      " |    |    |    |-- job: string (nullable = true)\n",
      " |    |    |    |-- name: string (nullable = true)\n",
      " |    |    |    |-- profile_path: string (nullable = true)\n",
      " |-- genres: array (nullable = true)\n",
      " |    |-- element: struct (containsNull = true)\n",
      " |    |    |-- id: long (nullable = true)\n",
      " |    |    |-- name: string (nullable = true)\n",
      " |-- homepage: string (nullable = true)\n",
      " |-- id: long (nullable = true)\n",
      " |-- images: string (nullable = true)\n",
      " |-- imdb_id: string (nullable = true)\n",
      " |-- keywords: struct (nullable = true)\n",
      " |    |-- keywords: array (nullable = true)\n",
      " |    |    |-- element: struct (containsNull = true)\n",
      " |    |    |    |-- id: long (nullable = true)\n",
      " |    |    |    |-- name: string (nullable = true)\n",
      " |-- original_language: string (nullable = true)\n",
      " |-- original_title: string (nullable = true)\n",
      " |-- overview: string (nullable = true)\n",
      " |-- popularity: double (nullable = true)\n",
      " |-- poster_path: string (nullable = true)\n",
      " |-- production_companies: array (nullable = true)\n",
      " |    |-- element: struct (containsNull = true)\n",
      " |    |    |-- id: long (nullable = true)\n",
      " |    |    |-- logo_path: string (nullable = true)\n",
      " |    |    |-- name: string (nullable = true)\n",
      " |    |    |-- origin_country: string (nullable = true)\n",
      " |-- production_countries: array (nullable = true)\n",
      " |    |-- element: struct (containsNull = true)\n",
      " |    |    |-- iso_3166_1: string (nullable = true)\n",
      " |    |    |-- name: string (nullable = true)\n",
      " |-- release_date: string (nullable = true)\n",
      " |-- revenue: long (nullable = true)\n",
      " |-- runtime: long (nullable = true)\n",
      " |-- spoken_languages: array (nullable = true)\n",
      " |    |-- element: struct (containsNull = true)\n",
      " |    |    |-- iso_639_1: string (nullable = true)\n",
      " |    |    |-- name: string (nullable = true)\n",
      " |-- status: string (nullable = true)\n",
      " |-- status_code: long (nullable = true)\n",
      " |-- status_message: string (nullable = true)\n",
      " |-- tagline: string (nullable = true)\n",
      " |-- title: string (nullable = true)\n",
      " |-- trailers: string (nullable = true)\n",
      " |-- translations: string (nullable = true)\n",
      " |-- video: boolean (nullable = true)\n",
      " |-- videos: string (nullable = true)\n",
      " |-- vote_average: double (nullable = true)\n",
      " |-- vote_count: long (nullable = true)\n",
      "\n"
     ]
    }
   ],
   "source": [
    "tmdb_df.printSchema()"
   ]
  },
  {
   "cell_type": "code",
   "execution_count": 8,
   "metadata": {},
   "outputs": [],
   "source": [
    "sc.stop()"
   ]
  }
 ],
 "metadata": {
  "kernelspec": {
   "display_name": "Python 3",
   "language": "python",
   "name": "python3"
  },
  "language_info": {
   "codemirror_mode": {
    "name": "ipython",
    "version": 3
   },
   "file_extension": ".py",
   "mimetype": "text/x-python",
   "name": "python",
   "nbconvert_exporter": "python",
   "pygments_lexer": "ipython3",
   "version": "3.5.6"
  }
 },
 "nbformat": 4,
 "nbformat_minor": 2
}
